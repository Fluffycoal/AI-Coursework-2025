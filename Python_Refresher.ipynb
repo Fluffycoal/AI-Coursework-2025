{
 "cells": [
  {
   "cell_type": "code",
   "execution_count": 1,
   "id": "77e4dc6d",
   "metadata": {},
   "outputs": [
    {
     "name": "stdout",
     "output_type": "stream",
     "text": [
      "There are 345600 seconds in 4 days.\n"
     ]
    }
   ],
   "source": [
    "#Question 1\n",
    "#ask user to enter number of days\n",
    "days = int(input(\"Enter number of days: \"))\n",
    "# calculate the number of seconds\n",
    "seconds = days * 24 * 60 * 60\n",
    "#Display the output\n",
    "print(f\"There are {seconds} seconds in {days} days.\")"
   ]
  },
  {
   "cell_type": "code",
   "execution_count": null,
   "id": "8852415c",
   "metadata": {},
   "outputs": [
    {
     "name": "stdout",
     "output_type": "stream",
     "text": [
      "The volume of the sphere is 1436.7550402417319\n"
     ]
    }
   ],
   "source": [
    "#Question 2\n",
    "import math\n",
    "#ask the user to input the radius\n",
    "radius=float(input(\"Enter the radius of the sphere: \"))\n",
    "#calculate the volume\n",
    "volume=(4/3)*math.pi*(radius**3)\n",
    "#Display the output\n",
    "print(f\"The volume of the sphere is {volume}\")"
   ]
  },
  {
   "cell_type": "code",
   "execution_count": null,
   "id": "c792fdab",
   "metadata": {},
   "outputs": [
    {
     "name": "stdout",
     "output_type": "stream",
     "text": [
      "The area of the square is 25.0\n",
      "The perimeter of the square is 20.0\n"
     ]
    }
   ],
   "source": [
    "#Question 3\n",
    "#Function to calculate area and perimeter of a square\n",
    "def calculate_area(side):\n",
    "    return side ** 2\n",
    "\n",
    "def calculate_perimeter(side):\n",
    "    return 4 * side\n",
    "#ask user for the length of a side\n",
    "side = float(input(\"Enter the length of a side of the square: \"))\n",
    "area = calculate_area(side)\n",
    "perimeter = calculate_perimeter(side)\n",
    "#Display the output\n",
    "print(f\"The area of the square is {area}\")\n",
    "print(f\"The perimeter of the square is {perimeter}\")"
   ]
  },
  {
   "cell_type": "code",
   "execution_count": 5,
   "id": "917dcc2c",
   "metadata": {},
   "outputs": [
    {
     "name": "stdout",
     "output_type": "stream",
     "text": [
      "The character 'y' is a lowercase letter.\n"
     ]
    }
   ],
   "source": [
    "#Question 4\n",
    "#Function to check the case of a character\n",
    "def check_case(char):\n",
    "    if len(char) == 1 and char.isalpha():\n",
    "        if char.isupper():\n",
    "            return \"is an uppercase letter.\"\n",
    "        elif char.islower():\n",
    "            return \"is a lowercase letter.\"\n",
    "    else:\n",
    "        return \"is not a single alphabetic character.\"\n",
    "\n",
    "# Ask user to enter a character\n",
    "user_char = input(\"Enter a single character: \")\n",
    "#Display the output\n",
    "print(f\"The character '{user_char}' {check_case(user_char)}\")"
   ]
  },
  {
   "cell_type": "code",
   "execution_count": 7,
   "id": "3f6096f7",
   "metadata": {},
   "outputs": [
    {
     "name": "stdout",
     "output_type": "stream",
     "text": [
      "The final value of x is 1.0416666666666665\n"
     ]
    }
   ],
   "source": [
    "#Question 5\n",
    "#Initialize variables\n",
    "x=0\n",
    "y=20\n",
    "\n",
    "while y >=6:\n",
    "    y=y-4\n",
    "\n",
    "    x=x+(2/y)\n",
    "#Display final output of x\n",
    "print(f\"The final value of x is {x}\")"
   ]
  },
  {
   "cell_type": "code",
   "execution_count": 1,
   "id": "62f80dfa",
   "metadata": {},
   "outputs": [],
   "source": [
    "#Question 6\n",
    "values_array = []\n",
    "total_sum=0\n",
    "\n",
    "for i in range(5):\n",
    "    user_value=float(input(f\"Enter value {i+1}: \"))\n",
    "\n",
    "values_array.append(user_value)\n",
    "\n",
    "total_sum += user_value"
   ]
  }
 ],
 "metadata": {
  "kernelspec": {
   "display_name": "Python 3",
   "language": "python",
   "name": "python3"
  },
  "language_info": {
   "codemirror_mode": {
    "name": "ipython",
    "version": 3
   },
   "file_extension": ".py",
   "mimetype": "text/x-python",
   "name": "python",
   "nbconvert_exporter": "python",
   "pygments_lexer": "ipython3",
   "version": "3.12.10"
  }
 },
 "nbformat": 4,
 "nbformat_minor": 5
}
